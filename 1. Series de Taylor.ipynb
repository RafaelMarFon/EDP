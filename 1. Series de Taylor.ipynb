{
 "cells": [
  {
   "cell_type": "markdown",
   "id": "e9d17447",
   "metadata": {},
   "source": [
    "# <center><FONT COLOR=\"Blue\">INTRODUCCIÓN Y SERIES DE TAYLOR</FONT></center>"
   ]
  },
  {
   "cell_type": "markdown",
   "id": "3987eb56",
   "metadata": {},
   "source": [
    "## <FONT COLOR=\"Blue\">Definición y clasificación</FONT>"
   ]
  },
  {
   "cell_type": "markdown",
   "id": "146f5064",
   "metadata": {},
   "source": [
    "Una ecuación diferencial que involucra más de una variable independiente y sus derivadas parciales con respecto a esas variables se llama ecuación diferencial parcial (PDE).\n",
    "\n",
    "Considere una PDE simple de la forma:\n",
    "\n",
    "$$\n",
    "\\frac{\\partial u(x, y)}{\\partial x} =0 .\n",
    "$$\n",
    "\n",
    "Esta ecuación implica que la función $u(x, y)$ es independiente de $x$. Por lo tanto, la solución general de esta ecuación es $u(x, y)=f(y)$, donde $f$ es una función arbitraria de $y$. La ecuación diferencial ordinaria análoga es:\n",
    "\n",
    "$$\n",
    "\\frac{d u}{d x}=0,\n",
    "$$\n",
    "\n",
    "cuya solución general es $u(x)=c$, donde $c$ es una constante. Este ejemplo ilustra que las soluciones generales de las EDO involucran constantes arbitrarias, mientras que las soluciones de las EDO involucran funciones arbitrarias.\n"
   ]
  },
  {
   "cell_type": "markdown",
   "id": "4e0e5867",
   "metadata": {},
   "source": [
    "## <FONT COLOR=\"Blue\">Clasificación de PDE</FONT> \n",
    "<p>En general, se pueden clasificar las PDE con respecto a diferentes criterios, por ejemplo:</p>\n",
    "<ul>\n",
    "<li>Orden</li>\n",
    "<li>Dimensión</li>\n",
    "<li>Linealidad</li>\n",
    "    \n",
    "$$au_{xx}+bu_{yy}+cu_{yy}+du_x+eu_y+fu+g=0$$\n",
    "Se clasifican por el valor del discriminante\n",
    "\n",
    "$$D_\\lambda=b^2-4 a c$$\n",
    "\n",
    "del problema de valores propios para la matriz\n",
    "\n",
    "$$\n",
    "A=\\left(\n",
    "\\begin{array}{cc}\n",
    "a & b / 2 \\\\\n",
    "b / 2 & c\n",
    "\\end{array}\n",
    "\\right)\n",
    "$$\n",
    "\n",
    "construir a partir de los coeficientes de las derivadas más altas. Una clasificación simple se muestra en la siguiente tabla \n",
    "\n",
    "| $D_\\lambda$ | Tipo | Valores propios |\n",
    "| ----------- | ---- | --------------- |\n",
    "| $D_\\lambda<0$ | elíptica | mismo signo |\n",
    "| $D_\\lambda>0$ | hiperbólico | diferentes signos |\n",
    "| $D_\\lambda=0$ | parabólico | cero es un valor propio |\n",
    "\n",
    "Por ejemplo la ecuación de Laplace\n",
    "\n",
    "$$\n",
    "\\frac{\\partial \\phi}{\\partial x^2}+\\frac{\\partial \\phi}{\\partial y^2}=0\n",
    "$$\n",
    "\n",
    "es una ecuación elíptica, porque $D_\\lambda=-4<0$."
   ]
  },
  {
   "cell_type": "markdown",
   "id": "4ce94372",
   "metadata": {},
   "source": [
    "###  <FONT COLOR=\"Blue\">Problemas iniciales y de valores en la frontera</FONT> \n",
    "\n",
    "La solución de PDE involucra funciones arbitrarias, por lo que para resolver completamente el sistema se necesitan condiciones adicionales. Estas condiciones se pueden dar en forma de condiciones iniciales y de contorno. Las condiciones iniciales definen los valores de las variables dependientes en la etapa inicial, mientras que las condiciones de contorno brindan información sobre el valor de la variable dependiente o su derivado en el límite del área de interés. Típicamente, se distingue:\n",
    "\n",
    "- Las condiciones de Dirichlet especifican los valores de las variables dependientes de los puntos límite.\n",
    "- Las condiciones de Neumann especifican los valores de los gradientes normales del límite.\n",
    "- Las condiciones de Robin definen una combinación lineal de las condiciones de Drichlet y Neumann.\n",
    "\n",
    "Además, es útil clasificar la PDE en cuestión en términos de problema de valor inicial (IVP) y problema de valor límite (BVP):\n",
    "\n",
    "- Problema de valor inicial: la PDE en cuestión describe la evolución temporal, es decir, se da la distribución espacial inicial; el objetivo es encontrar cómo se propaga la variable dependiente en el tiempo.\n",
    "- Problema de valores en la frontera: se debe encontrar una solución estática del problema en alguna región, y la variable dependiente se especifica en su frontera."
   ]
  },
  {
   "cell_type": "markdown",
   "id": "3220717e",
   "metadata": {},
   "source": [
    "## <FONT COLOR=\"Blue\">Series de Taylor en una variable</FONT> "
   ]
  },
  {
   "cell_type": "markdown",
   "id": "ff6e044d",
   "metadata": {},
   "source": [
    "Si $f(x)$ es una función de buen comportamiento* alrededor de un elegido punto de expansión $x_0$, entonces la función se puede expandir en una serie llamada serie de Taylor:\n",
    "$$\n",
    "\\begin{aligned}\n",
    "& f(x)=\\left.\\sum_{n=0}^{\\infty} \\frac{1}{n !} \\frac{d^n f(x)}{d x^n}\\right|_{x=x_0}\\left(x-x_0\\right)^n \\\\\n",
    "& f(x)=f\\left(x_0\\right)+\\left.\\frac{d f(x)}{d x}\\right|_{x=x_0}\\left(x-x_0\\right)+\\left.\\frac{d^2 f(x)}{2 ! d x^2}\\right|_{x=x_0}\\left(x-x_0\\right)^2+\\ldots \\\\\n",
    "& f(x)=f\\left(x_0\\right)+f^{\\prime}\\left(x_0\\right)\\left(x-x_0\\right)+\\frac{f^{\\prime \\prime}\\left(x_0\\right)\\left(x-x_0\\right)^2}{2 !}+\\frac{f^{(3)}\\left(x_0\\right)\\left(x-x_0\\right)^3}{3 !}+\\ldots\n",
    "\\end{aligned}\n",
    "$$"
   ]
  },
  {
   "cell_type": "markdown",
   "id": "8c1f8e29",
   "metadata": {},
   "source": [
    "### <FONT COLOR=\"Blue\">Error de truncamiento</FONT> "
   ]
  },
  {
   "cell_type": "markdown",
   "id": "403127a5",
   "metadata": {},
   "source": [
    "$$\n",
    "f(x)=f(x_0)+ \\Delta x f'(x_0)+\\dots + \\frac{(\\Delta x)^n}{n !}f^{(n)}(x_0)+R_n\n",
    "$$\n",
    "es la conocida **Serie de Taylor con resto**, el resto es $R_n$, tambien llamado **error de truncamiento** en un punto intermedio, que es deconocido:\n",
    "$$\n",
    "R_n=\\frac{(\\Delta x)^{n+1}}{(n+1)!}f^{(n+1)}(\\xi_{n+1}) \\quad \\text{donde} \\quad x_0<\\xi_{n+1}<x=x_0+\\Delta x\n",
    "$$\n",
    "para que este resultado se valido.$f(x)$ deten tener $n+1$ derivadas continuas."
   ]
  },
  {
   "cell_type": "markdown",
   "id": "c2843f20",
   "metadata": {},
   "source": [
    "#### <FONT COLOR=\"Blue\">Ejemplo: Error de truncamiento</FONT> "
   ]
  },
  {
   "cell_type": "markdown",
   "id": "61086e97",
   "metadata": {},
   "source": [
    "\n",
    "El error de la aproximación por la tangente esta dado por la ecuación $R_n$ con $n=1$.\n",
    "\\begin{align*}\n",
    " f(x +\\Delta x) & =f(x_0)+ \\Delta x f'(x_0)+R_n \\\\\n",
    " & =f(x_0)+ \\Delta x f'(x_0)+\\frac{(\\Delta x)^{n+1}}{(n+1)!}f^{(n+1)}(\\xi_{n+1}) \\quad \\text{n=1} \\\\\n",
    " f(x + \\Delta x)  & =f(x_0)+ \\Delta x f'(x_0)+\\frac{(\\Delta x)^{2}}{2!}f^{(2)}(\\xi_{2}) \n",
    "\\end{align*}\n",
    "esta formula es la conocida como **teorema del valor medio extendido**.\n",
    "\n",
    "Si $\\Delta x$ es pequeño, entonces $\\xi$ esta contenido en el intervalo y suponiendo que $d^2 f /dx^2$ es continua, el error de truncamiento es aproximadamente:\n",
    "$$R \\approx \\frac{(\\Delta x)^2}{2}\\frac{d^2 f}{dx^2}(x_0)$$.\n",
    "Entonces el orden del error es:\n",
    "\\begin{align*}\n",
    "\\left| R \\right|& =\\left| \\frac{(\\Delta x)^2}{2}\\frac{d^2 f}{dx^2}(x_0) \\right|=\\left| \\frac{(\\Delta x)^2}{2} \\right| \\left| \\frac{d^2 f}{dx^2}(x_0) \\right|<\\left| \\frac{(\\Delta x)^2}{2} \\right| M\\\\\n",
    "& <\\left| \\frac{(\\Delta x)^2}{2} \\right| M=C(\\Delta x)^2 \\qquad \\text{con} \\quad M=2C\n",
    "\\end{align*}\n",
    "Esto quiere decir que \"el orden del delta-x al cuadrado\", lo que denotamos como $R=\\mathcal{O}((\\Delta x)^2)$"
   ]
  },
  {
   "cell_type": "markdown",
   "id": "58e67b1e",
   "metadata": {},
   "source": [
    "## <FONT COLOR=\"Blue\">Aproximaciones de la primera derivada</FONT> "
   ]
  },
  {
   "cell_type": "markdown",
   "id": "2d0ddc0c",
   "metadata": {},
   "source": [
    "Aproximación de primera derivada para funciones de una variable\n",
    "\\begin{align*}\n",
    " f(x + \\Delta x)  & =f(x_0)+ \\Delta x f'(x_0)+\\frac{(\\Delta x)^{2}}{2!}f^{(2)}(\\xi_{2}) \\\\\n",
    "f(x + \\Delta x)- f(x_0)  & = \\Delta x f'(x_0)+\\frac{(\\Delta x)^{2}}{2!}f^{(2)}(\\xi_{2}) \\\\\n",
    "f(x + \\Delta x)- f(x_0)-\\frac{(\\Delta x)^{2}}{2!}f^{(2)}(\\xi_{2})  & = \\Delta x f'(x_0) \\\\\n",
    "\\frac{f(x + \\Delta x)- f(x_0)-\\frac{(\\Delta x)^{2}}{2!}f^{(2)}(\\xi_{2})}{\\Delta x} & = \\Delta x f'(x_0) \\\\\n",
    "\\frac{f(x + \\Delta x)- f(x_0)}{\\Delta x} - \\frac{\\Delta x}{2!}f^{(2)}(\\xi_{2}) & =  f'(x_0) \n",
    "\\end{align*}\n",
    "tenemos: \n",
    "$$ \\boxed{f'(x_0)=\\frac{f(x + \\Delta x)- f(x_0)}{\\Delta x} - \\frac{\\Delta x}{2!}f^{(2)}(\\xi_{2})} $$"
   ]
  },
  {
   "cell_type": "markdown",
   "id": "3310fc00",
   "metadata": {},
   "source": [
    "Introducimos entonces una aproximación por diferencias finitas, la aproximación por **diferencias progresivas** a $\\frac{df}{dx}$:\n",
    "\n",
    "$$ \\boxed{f'(x_0) \\approx \\frac{f(x + \\Delta x)- f(x_0)}{\\Delta x}} \\qquad \\text{diferencias progresiva} $$"
   ]
  },
  {
   "cell_type": "markdown",
   "id": "c8a402de",
   "metadata": {},
   "source": [
    "Podemos sustituir $\\Delta x$ por $-\\Delta x$ y obtenemos la aproximación por **diferencias retrogradas** a $df/dx$\n",
    "$$ \\boxed{f'(x_0)=\\frac{f(x - \\Delta x)- f(x_0)}{-\\Delta x} + \\frac{\\Delta x}{2!}f^{(2)}(\\bar{\\xi}_{2})} $$\n",
    "de donde \n",
    "$$ \\boxed{f'(x_0) \\approx \\frac{f(x - \\Delta x)- f(x_0)}{-\\Delta x}=\\frac{f(x_0)-f(x - \\Delta x)}{\\Delta x}} \\qquad \\text{diferencias retrogradas} $$\n",
    "Observamos que error de truncamiento de el idéntico para los tipos de diferencias y lo conveniente es sumar estas derivadas:"
   ]
  },
  {
   "cell_type": "markdown",
   "id": "2686e201",
   "metadata": {},
   "source": [
    "Sumando las aproximaciones **diferencias progresivas** y **diferencias retrogradas**"
   ]
  },
  {
   "cell_type": "markdown",
   "id": "57b57785",
   "metadata": {},
   "source": [
    "\\begin{aligned}\n",
    " f'(x_0)+ f'(x_0)  & =\\frac{f(x + \\Delta x)- f(x_0)}{\\Delta x}-\\frac{\\Delta x}{2!}f^{(2)}(\\bar{\\xi}_{2})+ \\frac{f(x_0)-f(x - \\Delta x)}{\\Delta x}+\\frac{\\Delta x}{2!}f^{(2)}(\\xi_{2}) \\\\\n",
    "2f'(x_0) & =\\frac{f(x + \\Delta x)- f(x_0)}{\\Delta x}+ \\frac{f(x_0)-f(x - \\Delta x)}{\\Delta x}+\\frac{\\Delta x}{2!}f^{(2)}(\\xi_{2})-\\frac{\\Delta x}{2!}f^{(2)}(\\bar{\\xi}_{2}) \\\\\n",
    "2f'(x_0) & =\\frac{f(x + \\Delta x)- f(x_0)+f(x_0)-f(x - \\Delta x)}{\\Delta x}+ \\frac{\\Delta x}{2!}[f^{(2)}(\\xi_{2})-f^{(2)}(\\bar{\\xi}_{2})] \\\\\n",
    "2f'(x_0) & =\\frac{f(x + \\Delta x)-f(x - \\Delta x)}{\\Delta x}+ \\frac{\\Delta x}{2!}[f^{(2)}(\\xi_{2})-f^{(2)}(\\bar{\\xi}_{2})] \\\\\n",
    "\\end{aligned}"
   ]
  },
  {
   "cell_type": "markdown",
   "id": "d93e9388",
   "metadata": {},
   "source": [
    "Como $\\bar{\\xi}_2$ está cerca de $\\xi_2$, esperamos que el error casi se cancele y sea mucho menor que $O(\\Delta x)$. Para deducir el error en esta aproximación, volvemos a la serie de Taylor para $f\\left(x_0-\\Delta x\\right)$ y $f\\left(x_0+\\Delta x\\right)$"
   ]
  },
  {
   "cell_type": "markdown",
   "id": "f43484be",
   "metadata": {},
   "source": [
    "$$\n",
    "\\begin{aligned}\n",
    "& f\\left(x_0+\\Delta x\\right)=f\\left(x_0\\right)+\\Delta x f^{\\prime}\\left(x_0\\right)+\\frac{(\\Delta x)^2}{2 !} f^{\\prime \\prime}\\left(x_0\\right)+\\frac{(\\Delta x)^3}{3 !} f^{\\prime \\prime \\prime}\\left(x_0\\right)+\\cdots \\\\\n",
    "& f\\left(x_0-\\Delta x\\right)=f\\left(x_0\\right)-\\Delta x f^{\\prime}\\left(x_0\\right)+\\frac{(\\Delta x)^2}{2 !} f^{\\prime \\prime}\\left(x_0\\right)-\\frac{(\\Delta x)^3}{3 !} f^{\\prime \\prime \\prime}\\left(x_0\\right)+\\cdots\n",
    "\\end{aligned}\n",
    "$$\n",
    "Restando las anteriores, nos queda\n",
    "$$\n",
    "f\\left(x_0+\\Delta x\\right)-f\\left(x_0-\\Delta x\\right)=2 \\Delta x f^{\\prime}\\left(x_0\\right)+\\frac{2}{3 !}(\\Delta x)^3 f^{\\prime \\prime \\prime}\\left(x_0\\right)+\\cdots\n",
    "$$\n",
    "Luego esperamos que\n",
    "$$\n",
    "f^{\\prime}\\left(x_0\\right)=\\frac{f\\left(x_0+\\Delta x\\right)-f\\left(x_0-\\Delta x\\right)}{2 \\Delta x}-\\frac{(\\Delta x)^2}{6} f^{\\prime \\prime \\prime}\\left(\\xi_3\\right)\n",
    "$$\n",
    "fórmula que se prueba en un ejercicio. Esto nos lleva a la aproximación por **diferencias centradas** de $d f / d x\\left(x_0\\right)$:"
   ]
  },
  {
   "cell_type": "markdown",
   "id": "a95cbe8b",
   "metadata": {},
   "source": [
    "$$\n",
    "\\boxed{\n",
    "f^{\\prime}\\left(x_0\\right) \\approx \\frac{f\\left(x_0+\\Delta x\\right)-f\\left(x_0-\\Delta x\\right)}{2 \\Delta x} \\qquad \\text{Diferencias Centradas} }\n",
    "$$"
   ]
  },
  {
   "cell_type": "markdown",
   "id": "96d3d4a6",
   "metadata": {},
   "source": [
    "La ecuación es normalmente la preferida, ya que es mas precisa en el sentido de que el error de truncamiento es $R=\\mathcal{O}((\\Delta x)^2)$. Estas aproximaciones por diferencias finitas a $df/dx$ son consistentes, lo que significa que el error de truncamiento se anulan cuando $\\Delta x \\rightarrow 0 $."
   ]
  },
  {
   "cell_type": "markdown",
   "id": "5b5b8264",
   "metadata": {},
   "source": [
    "#### <FONT COLOR=\"Blue\">Ejemplo: Aproximación para $f(x)=\\ln(x)$</FONT> "
   ]
  },
  {
   "cell_type": "markdown",
   "id": "49d55b0a",
   "metadata": {},
   "source": [
    "Aproximación de la derivada de $f(x)=\\ln(x)$ en $x=1$ y utilizando $\\Delta x = 0.1$."
   ]
  },
  {
   "cell_type": "markdown",
   "id": "0d223d70",
   "metadata": {},
   "source": [
    "**Respuestas**:"
   ]
  },
  {
   "cell_type": "markdown",
   "id": "2480c7fb",
   "metadata": {},
   "source": [
    "*Exacta*:\n",
    "$$D_x (\\ln(x))|_{x=1}=\\frac{1}{x}|_{x=1}=1$$"
   ]
  },
  {
   "cell_type": "code",
   "execution_count": 106,
   "id": "eb1d0264",
   "metadata": {},
   "outputs": [],
   "source": [
    "Δ𝑥=0.1 ; 𝑥0=1 ;"
   ]
  },
  {
   "cell_type": "markdown",
   "id": "d081a10c",
   "metadata": {},
   "source": [
    "*Diferencias progresiva*\n",
    "$$ \\boxed{f'(x_0) \\approx \\frac{f(x + \\Delta x)- f(x_0)}{\\Delta x}} $$"
   ]
  },
  {
   "cell_type": "code",
   "execution_count": 107,
   "id": "82ef00f4",
   "metadata": {},
   "outputs": [
    {
     "data": {
      "text/plain": [
       "0.9531017980432493"
      ]
     },
     "execution_count": 107,
     "metadata": {},
     "output_type": "execute_result"
    }
   ],
   "source": [
    "dp=(log(Δ𝑥+𝑥0)-log(𝑥0))/Δ𝑥"
   ]
  },
  {
   "cell_type": "code",
   "execution_count": 108,
   "id": "d8a924cb",
   "metadata": {},
   "outputs": [
    {
     "data": {
      "text/plain": [
       "4.689820195675065"
      ]
     },
     "execution_count": 108,
     "metadata": {},
     "output_type": "execute_result"
    }
   ],
   "source": [
    "Errordp=abs(dp-1)*100"
   ]
  },
  {
   "cell_type": "markdown",
   "id": "3d4c0424",
   "metadata": {},
   "source": [
    "*Diferencias retrogradas*\n",
    "$$ \\boxed{f'(x_0) \\approx \\frac{f(x_0)-f(x - \\Delta x)}{\\Delta x}} $$"
   ]
  },
  {
   "cell_type": "code",
   "execution_count": 109,
   "id": "2348684e",
   "metadata": {},
   "outputs": [
    {
     "data": {
      "text/plain": [
       "1.0536051565782627"
      ]
     },
     "execution_count": 109,
     "metadata": {},
     "output_type": "execute_result"
    }
   ],
   "source": [
    "dr=(log(𝑥0)-log(𝑥0-Δ𝑥))/Δ𝑥"
   ]
  },
  {
   "cell_type": "code",
   "execution_count": 110,
   "id": "803586b8",
   "metadata": {},
   "outputs": [
    {
     "data": {
      "text/plain": [
       "5.36051565782627"
      ]
     },
     "execution_count": 110,
     "metadata": {},
     "output_type": "execute_result"
    }
   ],
   "source": [
    "Errordr=abs(dr-1)*100"
   ]
  },
  {
   "cell_type": "markdown",
   "id": "5c88abce",
   "metadata": {},
   "source": [
    "*Diferencias Centradas*\n",
    "$$\n",
    "\\boxed{\n",
    "f^{\\prime}\\left(x_0\\right) \\approx \\frac{f\\left(x_0+\\Delta x\\right)-f\\left(x_0-\\Delta x\\right)}{2 \\Delta x} }\n",
    "$$"
   ]
  },
  {
   "cell_type": "code",
   "execution_count": 111,
   "id": "ed8e68d2",
   "metadata": {},
   "outputs": [
    {
     "data": {
      "text/plain": [
       "1.003353477310756"
      ]
     },
     "execution_count": 111,
     "metadata": {},
     "output_type": "execute_result"
    }
   ],
   "source": [
    "dc=(log(Δ𝑥+𝑥0)-log(𝑥0-Δ𝑥))/2Δ𝑥"
   ]
  },
  {
   "cell_type": "code",
   "execution_count": 113,
   "id": "4035662b",
   "metadata": {},
   "outputs": [
    {
     "data": {
      "text/plain": [
       "0.335347731075597"
      ]
     },
     "execution_count": 113,
     "metadata": {},
     "output_type": "execute_result"
    }
   ],
   "source": [
    "Errordc=abs(dc-1)*100"
   ]
  },
  {
   "cell_type": "markdown",
   "id": "53e2d99c",
   "metadata": {},
   "source": [
    "|  | Solución exacta | Diferencias progresivas | Diferencias retrogradas| Diferencias centradas |\n",
    "| ----------- | ---- | --------------- |--------------- |--------------- |\n",
    "| Valor  | 1 | 0.9531017980432493 | 1.0536051565782627 | 1.003353477310756 | \n",
    "| Error | 0% | 4.689820195675065% | 5.36051565782627% | 0.335347731075597% |\n",
    "\n",
    "Se ilustra muy bien como las diferencias centradas se aproximan mejor al valor verdadero de la derivada."
   ]
  },
  {
   "cell_type": "markdown",
   "id": "1cd47120",
   "metadata": {},
   "source": [
    "--------------------------------------------------------------"
   ]
  },
  {
   "cell_type": "markdown",
   "id": "c7626a36",
   "metadata": {},
   "source": [
    "## <FONT COLOR=\"Blue\">Aproximaciones de la segunda derivada</FONT> "
   ]
  },
  {
   "cell_type": "markdown",
   "id": "0a6d415a",
   "metadata": {},
   "source": [
    "$$\n",
    "f\\left(x_0+\\Delta x\\right)+f\\left(x_0-\\Delta x\\right)=2 f\\left(x_0\\right)+(\\Delta x)^2 f^{\\prime \\prime}\\left(x_0\\right)+\\frac{2(\\Delta x)^4}{4 !} f^{(i v)}\\left(x_0\\right)+\\cdots\n",
    "$$\n",
    "Luego esperamos que\n",
    "$$\n",
    "f^{\\prime \\prime}\\left(x_0\\right)=\\frac{f\\left(x_0+\\Delta x\\right)-2 f\\left(x_0\\right)+f\\left(x_0-\\Delta x\\right)}{(\\Delta x)^2}-\\frac{(\\Delta x)^2}{12} f^{(i v)}(\\xi) .\n",
    "$$\n",
    "Esto nos da una aproximación por diferencias finitas para la segunda derivada con error de truncamiento $O(\\Delta x)^2$ :\n",
    "$$\n",
    "\\frac{d^2 f}{d x^2}\\left(x_0\\right) \\approx \\frac{f\\left(x_0+\\Delta x\\right)-2 f\\left(x_0\\right)+f\\left(x_0-\\Delta x\\right)}{(\\Delta x)^2}\n",
    "$$"
   ]
  },
  {
   "attachments": {
    "image-2.png": {
     "image/png": "[encoded data removed]"
    }
   },
   "cell_type": "markdown",
   "id": "4bbe799d",
   "metadata": {},
   "source": [
    "![image-2.png](attachment:image-2.png)"
   ]
  },
  {
   "cell_type": "markdown",
   "id": "0d3fcf47",
   "metadata": {},
   "source": [
    "tenemos la aproximación:"
   ]
  },
  {
   "cell_type": "markdown",
   "id": "f6592471",
   "metadata": {},
   "source": [
    "$$\n",
    "\\frac{\\partial^2 u}{\\partial x^2} \\approx \\frac{u(x+ \\Delta x)-2u(x)+u(x- \\Delta x)}{ \\Delta x^2}\n",
    "$$"
   ]
  },
  {
   "cell_type": "markdown",
   "id": "48ccccc7",
   "metadata": {},
   "source": [
    "______________________________"
   ]
  },
  {
   "cell_type": "markdown",
   "id": "37c98622",
   "metadata": {},
   "source": [
    "## <FONT COLOR=\"Blue\">Derivadas Parciales</FONT> "
   ]
  },
  {
   "cell_type": "markdown",
   "id": "5d0de40a",
   "metadata": {},
   "source": [
    "Al resolver ecuaciones en derivadas parciales, analizamos funciones de dos o más variables, por ejemplo, $u(x, y), u(x, t)$ y $u(x, y, t)$. \n",
    "\n",
    "Los métodos numéricos utilizan a menudo aproximaciones por diferencias finitas. Algunas derivadas parciales (pero no todas) se pueden obtener usando nuestros resultados anteriores para funciones de una variable. Por ejemplo, para una función $u(x, y)$, la derivada parcial $\\partial u / \\partial x$ es, en realidad, una derivada ordinaria $d u / d x$ si mantenemos $y$ fijo. Por tanto podemos utilizar así las fórmulas de diferencia progresivas, retrógradas o centradas. Usando la fórmula de diferencias centradas, por ejemplo, se tiene"
   ]
  },
  {
   "cell_type": "markdown",
   "id": "4b08cc08",
   "metadata": {},
   "source": [
    "$$\n",
    "\\frac{\\partial u}{\\partial x}\\left(x_0, y_0\\right) \\approx \\frac{u\\left(x_0+\\Delta x, y_0\\right)-u\\left(x_0-\\Delta x, y_0\\right)}{2 \\Delta x} .\n",
    "$$"
   ]
  },
  {
   "cell_type": "markdown",
   "id": "7349461d",
   "metadata": {},
   "source": [
    "Para la derivada $\\partial u / \\partial y$ mantenemos $x$ fijo y obtenemos"
   ]
  },
  {
   "cell_type": "markdown",
   "id": "ddfcdd59",
   "metadata": {},
   "source": [
    "$$\n",
    "\\frac{\\partial u}{\\partial y}\\left(x_0, y_0\\right) \\approx \\frac{u\\left(x_0, y_0+\\Delta y\\right)-u\\left(x_0, y_0-\\Delta y\\right)}{2 \\Delta y}\n",
    "$$"
   ]
  },
  {
   "attachments": {
    "image.png": {
     "image/png": "[encoded data removed]"
    }
   },
   "cell_type": "markdown",
   "id": "5a143927",
   "metadata": {},
   "source": [
    "![image.png](attachment:image.png)"
   ]
  },
  {
   "cell_type": "markdown",
   "id": "48d01953",
   "metadata": {},
   "source": [
    "### Ejercicio."
   ]
  },
  {
   "cell_type": "markdown",
   "id": "8f31762f",
   "metadata": {},
   "source": [
    "Deducir una aproximación para $\\frac{\\partial^2 u}{\\partial x \\partial y}$ cuyo error de truncamiento sea $O(\\Delta x)^2$."
   ]
  },
  {
   "cell_type": "markdown",
   "id": "993c7352",
   "metadata": {},
   "source": [
    "\\begin{gathered}\n",
    "\\frac{\\partial^2 u}{\\partial x \\partial y}=\\frac{\\partial}{\\partial y}\\left(\\frac{\\partial u}{\\partial x}\\right)=\\frac{\\partial}{\\partial y} \\frac{u(x+\\Delta x, y)-u(x-\\Delta x, y)}{2 \\Delta x} \\\\\n",
    "\\end{gathered}"
   ]
  },
  {
   "cell_type": "markdown",
   "id": "d6975d35",
   "metadata": {},
   "source": [
    "\\begin{aligned}\n",
    "\\frac{\\partial^2 u}{\\partial x \\partial y} & = \\frac{\\partial}{\\partial y} \\frac{u(x+\\Delta x, y)-u(x-\\Delta x, y)}{2 \\Delta x} \\\\\n",
    "\\end{aligned}"
   ]
  },
  {
   "cell_type": "markdown",
   "id": "d30e9db1",
   "metadata": {},
   "source": [
    "\\begin{aligned}\n",
    "\\frac{\\partial^2 u}{\\partial x \\partial y} & =\\frac{1}{2 \\Delta x} \\frac{\\partial}{\\partial y}[u(x+\\Delta x, y)-u(x-\\Delta x, y)] \\\\\n",
    "\\end{aligned}"
   ]
  },
  {
   "cell_type": "markdown",
   "id": "898f2ba1",
   "metadata": {},
   "source": [
    "\\begin{aligned}\n",
    "\\frac{\\partial^2 u}{\\partial x \\partial y} & =\\frac{1}{2 \\Delta x}[\\frac{\\partial}{\\partial y}u(x+\\Delta x, y)-\\frac{\\partial}{\\partial y}u(x-\\Delta x, y)] \\\\\n",
    "\\end{aligned}"
   ]
  },
  {
   "cell_type": "markdown",
   "id": "880300a3",
   "metadata": {},
   "source": [
    "Mantenemos fijo $x+\\Delta x$ y aplicamos derivada parcial respecto a $y$ para las funciones $u(x+\\Delta x,y)$ y $u(x-\\Delta x,y)$, teneemos:"
   ]
  },
  {
   "cell_type": "markdown",
   "id": "919807bb",
   "metadata": {},
   "source": [
    "$$\n",
    "\\frac{\\partial u}{\\partial y}\\left(x+\\Delta x, y\\right) \\approx \\frac{u\\left(x+\\Delta x, y+\\Delta y\\right)-u\\left(x+\\Delta x, y-\\Delta y\\right)}{2 \\Delta y}\n",
    "$$"
   ]
  },
  {
   "cell_type": "markdown",
   "id": "dbf4a57d",
   "metadata": {},
   "source": [
    "$$\n",
    "\\frac{\\partial u}{\\partial y}\\left(x-\\Delta x, y\\right) \\approx \\frac{u\\left(x-\\Delta x, y+\\Delta y\\right)-u\\left(x-\\Delta x, y-\\Delta y\\right)}{2 \\Delta y}\n",
    "$$"
   ]
  },
  {
   "cell_type": "markdown",
   "id": "70fcc78b",
   "metadata": {},
   "source": [
    "Remplazando tenemos:"
   ]
  },
  {
   "cell_type": "markdown",
   "id": "4ad77d21",
   "metadata": {},
   "source": [
    "\\begin{aligned}\n",
    "\\frac{\\partial^2 u}{\\partial x \\partial y} & =\\frac{1}{2 \\Delta x}[\\frac{u\\left(x+\\Delta x, y+\\Delta y\\right)-u\\left(x+\\Delta x, y-\\Delta y\\right)}{2 \\Delta y}-\\frac{u\\left(x-\\Delta x, y+\\Delta y\\right)-u\\left(x-\\Delta x, y-\\Delta y\\right)}{2 \\Delta y}] \\\\ \n",
    "\\end{aligned}"
   ]
  },
  {
   "cell_type": "markdown",
   "id": "76b618d1",
   "metadata": {},
   "source": [
    "\\begin{aligned}\n",
    "\\frac{\\partial^2 u}{\\partial x \\partial y} & =\\frac{1}{2 \\Delta x}[\\frac{u\\left(x+\\Delta x, y+\\Delta y\\right)-u\\left(x+\\Delta x, y-\\Delta y\\right)-u\\left(x-\\Delta x, y+\\Delta y\\right)+u\\left(x-\\Delta x, y-\\Delta y\\right)}{2 \\Delta y}] \\\\ \n",
    "\\frac{\\partial^2 u}{\\partial x \\partial y} & =\\frac{1}{4 \\Delta x  \\Delta y}[u\\left(x+\\Delta x, y+\\Delta y\\right)-u\\left(x+\\Delta x, y-\\Delta y\\right)-u\\left(x-\\Delta x, y+\\Delta y\\right)+u\\left(x-\\Delta x, y-\\Delta y\\right)]\n",
    "\\end{aligned}"
   ]
  },
  {
   "cell_type": "markdown",
   "id": "1556a158",
   "metadata": {},
   "source": [
    "--------------------------"
   ]
  },
  {
   "cell_type": "markdown",
   "id": "f66d1734",
   "metadata": {},
   "source": [
    "## <FONT COLOR=\"Blue\">Series de Taylor en varias variables</FONT> "
   ]
  },
  {
   "cell_type": "markdown",
   "id": "6022f424",
   "metadata": {},
   "source": [
    "La serie de Taylor se puede generalizar a funciones de más de una variable como\n",
    "$$\n",
    "\\begin{aligned}\n",
    "f\\left(x_1, \\ldots, x_d\\right) & =\\sum_{n_1=0}^{\\infty} \\cdots \\sum_{n_d=0}^{\\infty} \\frac{\\left(x_1-a_1\\right)^{n_1} \\cdots\\left(x_d-a_d\\right)^{n_d}}{n_{1} ! \\cdots n_{d} !}\\left(\\frac{\\partial^{n_1+\\cdots+n_d} }{\\partial x_1^{n_1} \\cdots \\partial x_d^{n_d}}\\right) f \\left(a_1, \\ldots, a_d\\right)\n",
    "\\end{aligned}\n",
    "$$"
   ]
  },
  {
   "cell_type": "markdown",
   "id": "e2f011b8",
   "metadata": {},
   "source": [
    "$$\n",
    "\\begin{aligned}\n",
    "f\\left(x_1, \\ldots, x_d\\right) & =f\\left(a_1, \\ldots, a_d\\right)+\\sum_{j=1}^d \\frac{\\partial f\\left(a_1, \\ldots, a_d\\right)}{\\partial x_j}\\left(x_j-a_j\\right)  +\\frac{1}{2 !} \\sum_{j=1}^d \\sum_{k=1}^d \\frac{\\partial^2 f\\left(a_1, \\ldots, a_d\\right)}{\\partial x_j \\partial x_k}\\left(x_j-a_j\\right)\\left(x_k-a_k\\right) \\\\\n",
    "& +\\frac{1}{3 !} \\sum_{j=1}^d \\sum_{k=1}^d \\sum_{\\varphi=1}^d \\frac{\\partial^3 f\\left(a_1, \\ldots, a_d\\right)}{\\partial x_j \\partial x_k \\partial x_{\\varphi}}\\left(x_j-a_j\\right)\\left(x_k-a_k\\right)\\left(x_{\\varphi}-a_{\\varphi}\\right)+\\cdots\n",
    "\\end{aligned}\n",
    "$$"
   ]
  },
  {
   "cell_type": "markdown",
   "id": "0be20c7c",
   "metadata": {},
   "source": [
    "#### <FONT COLOR=\"Blue\">Ejemplo: Aproximación para $f(x,y)$</FONT> "
   ]
  },
  {
   "cell_type": "markdown",
   "id": "c656ae1d",
   "metadata": {},
   "source": [
    "Para una función de 2 variables $f(x, y)$, la serie de Taylor de segundo orden alrededor del punto $(a, b)$ es:\n",
    "\\begin{align*}\n",
    "f(x, y)&= f(a, b)+f_x(a, b)(x-a)+f_y(a, b)(y-b)+\\frac{1}{2}\\left(f_{x x}(a, b)(x-a)^2+2 f_{x y}(a, b)(x-a)(y-b)+f_{y y}(a, b)(y-b)^2\\right)\n",
    "\\end{align*}"
   ]
  },
  {
   "cell_type": "markdown",
   "id": "90797c72",
   "metadata": {},
   "source": [
    "donde los subíndices denotan las respectivas derivadas parciales, esto es\n",
    "\\begin{align*}\n",
    "f(x, y)&= f(a, b)+\\frac{\\partial f(a, b)}{\\partial x}(x-a)+\\frac{\\partial f(a, b)}{\\partial y}(y-b) +\\frac{1}{2}\\left(\\frac{\\partial^2 f(a, b)}{\\partial x^2}(x-a)^2+2 \\frac{\\partial^2 f(a, b)}{\\partial x \\partial y}(x-a)(y-b)+\\frac{\\partial^2 f(a, b)}{\\partial y^2}(y-b)^2\\right)\n",
    "\\end{align*}"
   ]
  },
  {
   "cell_type": "markdown",
   "id": "7c1a7966",
   "metadata": {},
   "source": [
    "#### <FONT COLOR=\"Blue\">Ejemplo: Aproximación para forma cuadratica</FONT> "
   ]
  },
  {
   "cell_type": "markdown",
   "id": "8adce995",
   "metadata": {},
   "source": [
    "Una expansión en serie Taylor de segundo orden para funciones escalares de más de una variable puede ser escrito de manera compacta como\n",
    "$$\n",
    "T(\\mathbf{x})=f(\\mathbf{a})+(\\mathbf{x}-\\mathbf{a})^T D f(\\mathbf{a})+\\frac{1}{2}(\\mathbf{x}-\\mathbf{a})^T D^2 f(\\mathbf{a})(\\mathbf{x}-\\mathbf{a})+\\cdots\n",
    "$$\n",
    "donde $D f(\\mathbf{a})$ es el gradiente de $f$ en $\\mathbf{x}=\\mathbf{a}$ y $D^2 f(\\mathbf{a})$ es la matriz hessiana. Otra forma:\n",
    "$$\n",
    "T(\\mathbf{x})=\\sum_{|\\alpha| \\geq 0} \\frac{D^\\alpha f(\\mathbf{a})}{\\alpha !}(\\mathbf{x}-\\mathbf{a})^\\alpha\n",
    "$$"
   ]
  },
  {
   "cell_type": "code",
   "execution_count": null,
   "id": "24aeadfc",
   "metadata": {},
   "outputs": [],
   "source": []
  }
 ],
 "metadata": {
  "@webio": {
   "lastCommId": null,
   "lastKernelId": null
  },
  "kernelspec": {
   "display_name": "Julia 1.8.5",
   "language": "julia",
   "name": "julia-1.8"
  },
  "language_info": {
   "file_extension": ".jl",
   "mimetype": "application/julia",
   "name": "julia",
   "version": "1.8.5"
  }
 },
 "nbformat": 4,
 "nbformat_minor": 5
}
